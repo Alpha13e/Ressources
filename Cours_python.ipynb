{
 "cells": [
  {
   "cell_type": "code",
   "execution_count": 7,
   "metadata": {},
   "outputs": [
    {
     "data": {
      "application/javascript": "IPython.notebook.set_autosave_interval(300000)"
     },
     "metadata": {},
     "output_type": "display_data"
    },
    {
     "name": "stdout",
     "output_type": "stream",
     "text": [
      "Autosaving every 300 seconds\n"
     ]
    }
   ],
   "source": [
    "%reset -f\n",
    "# Reset le kernel: toutes cellules déjà exécutées ne le sont plus\n",
    "%autosave 300\n",
    "# Sauvegarde le document toutes les 300 secondes\n",
    "# !! Ne permet pas de commentaire sur la même ligne !!\n",
    "# D'autres méthodes propres au Jupyter Notebook existent."
   ]
  },
  {
   "cell_type": "markdown",
   "metadata": {},
   "source": [
    "# Introduction\n",
    "J'ai initialement créé ce document pour moi, en tant que fiche rassemblant tous mes cours de Python. Je me suis ensuite rendu compte que cela pourrait intéresser bien du monde. Bref, si vous avez des suggestions, faites-le moi savoir (je ne sais pas encore comment faire des suggestions via GitHub, mais on peut découvrir ensemble).\n",
    "<div class=\"alert alert-info\">\n",
    "\n",
    "<u>Guide pour bien démarrer la programmation:</u>\n",
    "\n",
    "Pour programmer confortablement, il faut un **IDE** (environnement de développement intégré). Il vous permet d'avoir des couleurs, signaler les erreurs,... Bref, rendre la vie plus facile. Je vous recommande [Vs code](https://code.visualstudio.com/download), un des principaux sur le marché et, bien que complet, facile à prendre en main. Il fonctionne avec des **extensions** (icône de boîtes sur le panneau de gauche). Je vous conseille Python, Jupyter Notebook (vous en lisez un), markdown all in one (le langage de cette cellule), et vscode-pdf (utile pour tout avoir dans le même environnement). Car on peut **ouvrir un fichier** entier, et organiser les fenêtres comme on veut, comme sur le bureau windows ! Tout est dans l'icône documents du panneau de gauche. Certans fichiers comme les notebook (.ipynb) ont une architecture. Je vous laisse tester *outline*, toujours dans l'onglet Explorer.\n",
    "\n",
    "Voilà, je vous laisse explorer le reste sur Internet, les ressources ne manquent pas !\n",
    "</div>\n",
    "\n",
    "# Sommaire\n",
    "- [Ressources](#Ressources:)\n",
    "- [Bases de python](#Bases-python)\n",
    "\n",
    "- [Résolution numérique](#résolution-numérique)"
   ]
  },
  {
   "cell_type": "markdown",
   "metadata": {},
   "source": [
    "# Ressources:\n",
    "Rubrique fourre-tout pour tout ce dont j'ai du mal à me rappeler.\n",
    "\n",
    "[Math cheatsheet](https://www.upyesp.org/posts/makrdown-vscode-math-notation/)\n",
    "\n",
    "- $\\overset{x_0}=$ : `\\overset{x_0}{=}`\n",
    "- $\\exists$: `\\exists`\n",
    "- $\\left(...\\right)$ : `\\left(...\\right)`\n",
    "- $\\Leftrightarrow$ : `\\Leftrightarrow`\n",
    "- $\\xrightarrow[\\infin]{overtext}$ : `\\xrightarrow[\\infin]{overtext}` from mathtools, keep brackets if only undertext wanted\n",
    "\n",
    "For internal (within the same notebook) links use this code:\n",
    "`[section title](#section-title)`\n",
    "For the text in the parentheses, replace spaces and special characters with a hyphen.\n",
    "\n",
    "Alternatively, you can add an ID for a section right above the section title.\n",
    "Use this code: `<a id=\"section_ID\"></a>`\n",
    "\n",
    "Make sure that the section_ID is unique within the notebook.\n",
    "Use this code: `[section title](#section_ID)`\n",
    "\n",
    "External links\n",
    "\n",
    "Use this code: `[external link text](http://url_here)`\n",
    "\n",
    "- pr ignorer un type d'erreur: `#type: ignore[nom-erreur]`\n",
    "- ajouter `plt.subplots` et colors, tableaux...\n"
   ]
  },
  {
   "cell_type": "markdown",
   "metadata": {},
   "source": [
    "# Bases python\n",
    "- Mots interdits/utiles\n",
    "\n",
    "||||||||||||\n",
    "|-|-|-|-|-|-|-|-|-|-|-|\n",
    "|and|as|assert|break|class|**continue**|def|del|elif|else|with|\n",
    "|**exept**|false|finally|for|from|global|if|import|in|is|while|\n",
    "|lambda|none|nonlocal|not|or|**pass**|raise|return|true|try|yield|\n",
    "\n",
    "- Types de variables : `type(a)` : `list`, `str`, `int`, `float`,`tuple`(liste non modifiable),`dict`, `set`\n",
    "\n",
    "- Opérations de base\n",
    "\n",
    "  - `//` : Quotient division\n",
    "  - `%`  : Reste\n",
    "  - `==` : Egal\n",
    "  - `!=` : Différend\n",
    "  - `< > <= >=` : Comparaisons\n",
    "  - `in` : appartient\n",
    "  - `assert`, `input()`\n",
    "\n",
    "- Pour un code propre:\n",
    "  - Utiliser le module `typing`: `Callable[[type_entrée], type_sortie]` permet de préciser le type d'une fonction.\n",
    "  - `# type: ignore[nom-erreur]` permet d'ignorer certaines erreurs. `[nom-erreur]` est facultatif."
   ]
  },
  {
   "cell_type": "markdown",
   "metadata": {},
   "source": [
    "## Listes\n",
    "\n",
    "- `l[début:fin:pas]`: appeler des éléments de la liste \n",
    "- `[i**2 for i in range(debut,fin,pas) if i<n]`: liste par compréhension\n",
    "\n",
    "- Méthodes: \n",
    "  - `sum(l)` : somme les éléments de l ssi ce sont tous des nombres\n",
    "  - `len(l)` : longueur de l\n",
    "  - `del l[i]` : supprime l'élément de position i\n",
    "  - `sorted(l)` : renvoie une liste triée \n",
    "  - `max(l)` `min(l)`\n",
    "  - `l.append(x)`, `l.remove(x)`, `l.count(x)`, `l.insert(i,x)`, `l.clear(x)`\n",
    "  - `l.extend(L)` ajoute les éléments de L en fin de l, équivaut à l+L\n",
    "  - `l.pop(i)` renvoie l’élément d’indice i dans l puis le supprime\n",
    "  - `l.index(x)` renvoie l’indice de la première occurrence de x dans l\n",
    "  - `l.sort()` **modifie** la liste a en la triant.\n",
    "  - `l.reverse()` **modifie** la liste a en inversant les éléments\n",
    "\n",
    "- Parcourir listes dans une boucle:\n",
    "  - `l` parcourt les éléments de l\n",
    "  - `range(len(l))` parcourt ses indices\n",
    "  - `enumerate(l)` donne la paire (indice,éléments)\n",
    "  - `zip` parcourt n listes d'un coup, s'arrête au dernier rang de la plus petite liste\n",
    "\n",
    "\n",
    "`i,(ai,bi) in enumerate(zip(a,b))` **Parcours ultime !**\n",
    "\n",
    "> Voir module numpy pour matrices"
   ]
  },
  {
   "cell_type": "markdown",
   "metadata": {},
   "source": [
    "## Gestion de texte ; Lecture/écriture\n",
    "\n",
    "f-string : `f\"texte1 {(variable à insérer) 1:.(nb décimales voulues)f} suite du texte\"` D'autres modes que `.f` existent.\n",
    "\n",
    "- Caractères spéciaux\n",
    "  - `\\n` retour a la ligne\n",
    "  - `\\t` tab\n",
    "  - `\\a` bib système\n",
    "  - `\\\\` antislash\n",
    "  - `\\'` ou `\\\"` : écrire `'`ou `\"` dans un texte\n",
    "\n",
    "<span style=\"color:green\">\n",
    "\n",
    "`f=open(\"test.txt\",\"r\")`: `r` = read ; `w` = write ; `r+` = both ; `a` = append\n",
    "\n",
    "</span>\n",
    "\n",
    "- Méthodes principales :\n",
    "  \n",
    "  - `read(n)` si n  omis, retourne un str contenant tous les caractères du fichier. Sinon retourne une chaine contenant n caractères\n",
    "  - `f.readline()` retourne la ligne en cours de lecture (permet de le parcourir)\n",
    "  - `f.readlines()` retourne toutes les lignes du fichier dans une liste\n",
    "  - `l.rstrip(\"\\n\\r\")` enlève le superflu\n",
    "  - `l.replace(\",\",\".\")` convertit le format des valeurs\n",
    "  - `l.split(\\t)` renvoie un liste avec tab comme séparateur\n",
    "\n",
    "- Autres méthodes:\n",
    "\n",
    "  - `f.index(\"x\")` indice de la première occurrence de x\n",
    "  - `f.count(\"x\")` nombre d’occurrence de \"x\"\n",
    "  - `f.lower()` `f.upper()` **nouvelle** chaîne où tous les caractères de f sont en minuscule/majuscule\n",
    "  - `f.capitalize()` **nouvelle** chaîne où la **première lettre du premier mot** de f est en majuscule\n",
    "  - `f.title()` **nouvelle** chaîne où la **première lettre de chaque mot** de s est en majuscule\n"
   ]
  },
  {
   "cell_type": "markdown",
   "metadata": {},
   "source": [
    "## Boucles et récursivité\n",
    "\n",
    "- `if`, `elif`, `else` : *si 1, sinon 2, sinon*. Permettent de placer un ensemble d'actions à conditions.\n",
    "- `for k in` : *pour*. Itère un élément. Avec `range(n)`, accomplit n fois la boucle.\n",
    "- `while` : *tant que*. Tant que les conditions spécifiées sont True, continue.\n",
    "<span style=\"color:red\">\n",
    " Attention aux boucles infinies !\n",
    "</span>\n",
    "\n",
    "`and`, `or`, `if`, ... peuvent ajouter der spécifications aux boucles selon les besoins.\n",
    "<span style=\"color:red\">\n",
    " Ne pas oublier `:` à la fin et l'indentation qui suit !\n",
    "</span>\n",
    "\n",
    "- <u> Méthodes avancées :</u>\n",
    "\n",
    "  - `break`sort de la plus petite boucle **et saute les `else` de cette indentation !**\n",
    "  - `continue` passe directement à la prochaine itération *(utile pour éviter des cas impossibles)*\n",
    "\n",
    "Voir le tableau en début de document pour plus d'inspiration !\n",
    "\n",
    "*Certains tris sont récursifs.*\n"
   ]
  },
  {
   "cell_type": "markdown",
   "metadata": {},
   "source": [
    "## Tris classiques\n",
    "> Voici plusieurs méthodes de tri et de manipulation de liste."
   ]
  },
  {
   "cell_type": "code",
   "execution_count": null,
   "metadata": {},
   "outputs": [],
   "source": [
    "# Je ne les ai pas testés depuis longtemps, signalez-moi toute erreur svp.\n",
    "\n",
    "def plus_proche_voisin(L : list[int]) -> tuple :\n",
    "    \"\"\"\n",
    "    renvoie les deux éléments voisins les plus proches l'un de l'autre \n",
    "    (dont la valeur absolue de la différence est la plus petite, s'ils sont côte à côte)\n",
    "    \"\"\"\n",
    "    a,b=L[0],L[1]\n",
    "    for i in range(1,len(L)):\n",
    "        diff=abs(a-b)\n",
    "        difi=abs(L[i-1]-L[i])\n",
    "        if (difi)<(diff):\n",
    "            a,b=L[i-1],L[i]\n",
    "        if (difi)==(diff):\n",
    "                 continue\n",
    "    return a,b\n",
    "\n",
    "def dicho(l:list,x:float ):    # cherche si x appartient à l\n",
    "    \"\"\"\n",
    "    Cherche x dans l (liste triée), renvoie sa position s\\'il existe, False sinon.\n",
    "    \"\"\"\n",
    "    debut=0\n",
    "    fin=len(l)-1\n",
    "    for i in range (len(l)):\n",
    "        m=l[int(debut-fin)]\n",
    "        if m==x:\n",
    "            return int(debut-fin)\n",
    "        elif m<x:\n",
    "            fin=fin/2\n",
    "        elif m>x:\n",
    "            debut=fin/2\n",
    "    return False\n",
    "\n",
    "def tri_bulle(nombres : list) -> list:\n",
    "    \"\"\"\n",
    "    Le tri bulle. Change la liste en la triant. Youtube peut aider à le comprendre.\n",
    "    \"\"\"\n",
    "    n = len(nombres)\n",
    "    for i in range(n-1, 0, -1):\n",
    "        for j in range(0,i):\n",
    "            if nombres[j]>nombres[j+1]:\n",
    "                nombres[j],nombres[j+1]=nombres[j+1],nombres[j]\n",
    "    return nombres\n",
    "\n",
    "def tri_insertion(T : list[float]):\n",
    "    \"\"\"\n",
    "    Le tri par insertion. Change la liste en la triant. Youtube peut aider à le comprendre.\n",
    "    Précision supposée: O(n²)\n",
    "    \"\"\"\n",
    "    for i in range(1,len(T)):\n",
    "        j=i\n",
    "        x=T[j]\n",
    "        while j>0 and T[j-1]>x:\n",
    "            T[j]=T[j-1]\n",
    "            j=j-1\n",
    "            T[j]=x\n",
    "    return T\n",
    "\n",
    "# Tri quicksort. Deux fonctions car pourquoi pas. Je modifierai peut-être un jour.\n",
    "def echange(T:list,i:int,j:int):\n",
    "    T[i],T[j]=T[j],T[i]\n",
    "    return T\n",
    "    \n",
    "def partition (T:list[float],g:int,d:int):\n",
    "    assert g<d ,\"mauvaises bornes !\" # configure une erreur. Stoppe l'exécution !\n",
    "    x=T[g]\n",
    "    m=g\n",
    "    for i in range (g+1,d):\n",
    "        if T[i]<x:\n",
    "            m=m+1 \n",
    "            echange(T,i,m)\n",
    "        if m!=g:\n",
    "             echange(T, g, m)\n",
    "    return m\n"
   ]
  },
  {
   "cell_type": "markdown",
   "metadata": {},
   "source": [
    "# Bibliothèques:\n",
    "`import` permet d'importer des bibliothèques de fonctions facilitant grandement la vie."
   ]
  },
  {
   "cell_type": "code",
   "execution_count": null,
   "metadata": {},
   "outputs": [],
   "source": [
    "import numpy as np                  # Meilleure méthode, l'alias. \n",
    "import matplotlib.pyplot as plt     # Ces deux bibliothèques sont les principales: tableaux et graphes\n",
    "from random import randint          # Importe un nombre limité de fonctions en les nommant.\n",
    "from turtle import * # type: ignore # Importe tous les éléments de la bibliothèque. Risque de conflit et de perte mémoire !\n",
    "from copy import deepcopy           # Ces trois sont plus spécifiques, créer des valeurs aléatoires, dessiner, véritablement copier une liste.\n",
    "\n",
    "#from tutor import tutor            # Permet de suivre un code étape par étape\n",
    "#from rcviz import*                 # Pour suivre une récursivité"
   ]
  },
  {
   "cell_type": "markdown",
   "metadata": {},
   "source": [
    "## Numpy\n",
    "> Permet l'utilisation de tableaux/matrices, en amélioration des listes. On ne peut pas modifier sa taille, mais est bien plus intuitif: permet d'appliquer une opération à chaque élément de la liste.\n",
    "\n",
    "- La plupart des fonctions de maths y sont et sont transparentes.\n",
    "- `array([...])` : transforme une liste normale en tableau\n",
    "- `linspace(a,b,n)` : Liste de n éléments $\\in[a,b]$\n",
    "- ...\n",
    "\n"
   ]
  },
  {
   "cell_type": "markdown",
   "metadata": {},
   "source": [
    "## Matplotlib\n",
    "> Possède des sous-bibliothèques: matplotlib.pyplot, .colors ...\n",
    "\n",
    "> Permet de tracer des graphes de tous types\n",
    "### Tracé de fonctions : Plot"
   ]
  },
  {
   "cell_type": "code",
   "execution_count": null,
   "metadata": {},
   "outputs": [
    {
     "data": {
      "image/png": "[encoded data removed]",
      "text/plain": [
       "<Figure size 640x480 with 1 Axes>"
      ]
     },
     "metadata": {},
     "output_type": "display_data"
    }
   ],
   "source": [
    "# Exemple avec tan(x) et une fonction quelconque\n",
    "x = np.linspace(-1.5, 1.5, 30)\n",
    "yt = np.tan(x)\n",
    "yx = x-(1/6)*x**3\n",
    "\n",
    "import matplotlib.pyplot as plt\n",
    "plt.figure() # initie le tracé\n",
    "\n",
    "plt.plot(x, yt, 'c.',label='tan(x)')\n",
    "plt.plot(x, yx, 'm+-',label='f(x)')\n",
    "\n",
    "plt.legend()\n",
    "plt.grid()\n",
    "#plt.errorbar(x, y, kwargs)\n",
    "plt.axis([-1.5, 1.5, -10, 10]) # type: ignore\n",
    "plt.title('titration (;')\n",
    "plt.xlabel('abscissation')\n",
    "plt.ylabel('ordonnation')\n",
    "plt.show() # affiche le/les graphes initiés\n",
    "plt.close() # vide la mémoire, et évite de se retrouver avec le même graphe plus loin dans le fichier\n"
   ]
  },
  {
   "cell_type": "markdown",
   "metadata": {},
   "source": [
    "Dans un stade avancé, on peut mettre plusieurs graphes dans la même image avec `subplots`, commenter avec `annotate`, ..."
   ]
  },
  {
   "cell_type": "code",
   "execution_count": 54,
   "metadata": {},
   "outputs": [
    {
     "data": {
      "image/png": "[encoded data removed]",
      "text/plain": [
       "<Figure size 900x475 with 4 Axes>"
      ]
     },
     "metadata": {},
     "output_type": "display_data"
    }
   ],
   "source": [
    "import numpy as np\n",
    "import matplotlib.pyplot as plt\n",
    "\n",
    "cos=lambda x:np.cos(x)\n",
    "sin=lambda x:np.sin(x**2)\n",
    "tan=lambda x:np.tan(x)\n",
    "\n",
    "x=np.linspace(-2*np.pi,2*np.pi,1000)\n",
    "\n",
    "fig,ax=plt.subplots(2,2,figsize=(9,4.75)) # crée 2*2 graphes dans fig, réglables dans ax, le tableau des 4 graphes.\n",
    "fig.suptitle(\"Exemple de graphe avec des fonctions trigo\")\n",
    "fig.supxlabel(\"$x$, radians\")\n",
    "\n",
    "ax[0,0].plot(x,cos(x))\n",
    "ax[0,0].annotate(\"Période: $2\\pi$\",\n",
    "                 xy=(np.pi/2,0), xytext=(-np.pi,0),\n",
    "                 arrowprops=dict(arrowstyle=\"<->\",\n",
    "                                 color=\"green\",\n",
    "                                 linewidth=1),\n",
    "                 ha=\"center\", # horizontalalignment\n",
    "                 va=\"bottom\", # verticalalignment\n",
    "                 color=\"green\") # Attributs de Text, global dans plt.\n",
    "ax[0,0].set_title(\"Cosinus\") # title ne fonctionne pas !\n",
    "ax[0,0].set_ylabel(\"$cos(x)$\")\n",
    "\n",
    "ax[0,1].plot(x,sin(x))\n",
    "ax[0,1].plot(x,np.array([-1 for i in x]),'--r',linewidth=1) # Enveloppe inférieure\n",
    "ax[0,1].text(0,-1,\n",
    "             \"Amplitude$= 1$\",\n",
    "             ha=\"center\", # Attributs de Text...\n",
    "             color=\"red\",\n",
    "             va=\"bottom\")\n",
    "ax[0,1].set_title(\"Sinus\")\n",
    "ax[0,1].set_ylabel(\"$sin(x^2)$\")\n",
    "\n",
    "ax[1,0].plot(x,np.clip(tan(x),-10,10))\n",
    "#ax[1,0].annotate()\n",
    "ax[1,0].set_title(\"Tangente\")\n",
    "ax[1,0].set_ylabel(\"$tan(x)$\")\n",
    "ax[1,0].set_yscale('symlog', linthresh=0.1)\n",
    "#ax[1,0].set_ylim(-10, 10)\n",
    "\n",
    "\n",
    "ax[1, 1].axis('off')\n",
    "\n",
    "plt.tight_layout() # quasi obligatoire avec subplots, permet d'évitre toute superposition.\n",
    "plt.text(0.25,0.25,\n",
    "         \"Le texte ici supporte certaines formules: $tan(x)$ \\n\" \\\n",
    "         \"mais pas grand chose d'autre: $\\pi$, $\\int_0^nf(x)\\.dx$ \\n\" \\\n",
    "         \"C'est néanmoins foutu s'il y a un espace.\",\n",
    "         ha=\"center\")\n",
    "plt.text(-0.85,-0.35, # Réglé par tatonement, après tight layout pour le superposer\n",
    "         \"Ce graphe est clippé et y est en log centré sur 0.\", # sans gêner l'agencement.\n",
    "         ha=\"center\")\n",
    "plt.show()\n",
    "plt.close()\n"
   ]
  },
  {
   "cell_type": "markdown",
   "metadata": {},
   "source": [
    "### Tracé de matrices : imshow\n",
    "Cette méthode m'est très récente, comme oour tout info manquante, lisez la documentation."
   ]
  },
  {
   "cell_type": "code",
   "execution_count": null,
   "metadata": {},
   "outputs": [
    {
     "name": "stdout",
     "output_type": "stream",
     "text": [
      "Pascal par matrice au rang 8:\n",
      " [[ 1  0  0  0  0  0  0  0]\n",
      " [ 1  1  0  0  0  0  0  0]\n",
      " [ 1  2  1  0  0  0  0  0]\n",
      " [ 1  3  3  1  0  0  0  0]\n",
      " [ 1  4  6  4  1  0  0  0]\n",
      " [ 1  5 10 10  5  1  0  0]\n",
      " [ 1  6 15 20 15  6  1  0]\n",
      " [ 1  7 21 35 35 21  7  1]]\n"
     ]
    },
    {
     "data": {
      "text/plain": [
       "<matplotlib.colorbar.Colorbar at 0x7a2aede879b0>"
      ]
     },
     "execution_count": 14,
     "metadata": {},
     "output_type": "execute_result"
    },
    {
     "data": {
      "image/png": "[encoded data removed]",
      "text/plain": [
       "<Figure size 640x480 with 2 Axes>"
      ]
     },
     "metadata": {},
     "output_type": "display_data"
    }
   ],
   "source": [
    "import numpy as np\n",
    "def pascal(n:int)->np.ndarray[tuple[int,int],np.dtype]:\n",
    "    \"\"\"Renvoie le tableau de Pascal\"\"\"\n",
    "    l=np.zeros((n,n),dtype=int)\n",
    "    l[:,0]=1    \n",
    "    for i in range(n-1):\n",
    "        for j in range(n-1):\n",
    "            l[i+1,j+1]=l[i,j]+l[i,j+1]\n",
    "    return l\n",
    "\n",
    "p=pascal(15) # Modifier pour obtenir une résolution différente\n",
    "print(\"Pascal par matrice au rang 8:\\n\",pascal(8))\n",
    "\n",
    "import matplotlib.pyplot as plt\n",
    "from matplotlib.colors import LogNorm # pour de meilleures couleurs\n",
    "\n",
    "f=plt.imshow(p,\n",
    "           cmap=\"jet\",\n",
    "           norm=LogNorm(vmin=1,vmax=len(p)))\n",
    "plt.colorbar(f)\n",
    "# De meilleurs couleurs existent sûrement"
   ]
  },
  {
   "cell_type": "markdown",
   "metadata": {},
   "source": [
    "# Résolution numérique\n",
    "\n",
    "## Résolution de $f(x)=0$\n",
    "#### Résumé général\n",
    "- <u>Mathématiquement,</u> on caractérise l'existence de la solution, tente de réduire le champ des possibles à l'aide de propriétés, pour finalement arriver à une **possible solution exacte.**\n",
    "- <u>Numériquement,</u> on ne peut qu'approximer: On fixe une précision $p>0$ \n",
    "( $10^{-3}<p<10^{-12}$ ) et considère $f(x)=0$ résolu si:\n",
    "  - $|f(x)<p|$\n",
    "  - $|x-\\hat x|<p$\n",
    "  - $|x-\\hat x|+f(\\hat x)<p$\n",
    "  \n",
    "  Avec $x$ l'ancienne approximation, $\\hat x$ la nouvelle.\n",
    "\n",
    "#### Ordre de convergence\n",
    "L'ordre de convergence d'une suite $(x_n)$ est dite:\n",
    "- <u>Linéaire si</u> \n",
    "$$\n",
    "\\lim_{n\\to +\\infin} \\frac{|x_{n+1}-\\hat x|}{|x_n-\\hat x|} =\\alpha \\in ]0,1[\n",
    "$$\n",
    "- <u>Superlinéaire si</u> \n",
    "$$\n",
    "\\lim_{n\\to +\\infin} \\frac{|x_{n+1}-\\hat x|}{|x_n-\\hat x|}=0\n",
    "$$\n",
    "- <u>D'ordre $p>1$ si</u> \n",
    "$$\n",
    "\\lim_{n\\to +\\infin} \\frac{|x_{n+1}-\\hat x|}{|x_n-\\hat x|^p} \\in \\mathbb R^*_+\n",
    "$$\n",
    "\n",
    "**La convergence (Point fixe à compléter)**\n",
    "\n",
    "#### Méthode composite\n",
    "\n",
    "<span style=\"color:green\">\n",
    "\n",
    "Généralement, on va mettre en place une méthode peu précise. Il nous suffit alors de *diviser pour mieux régner*: On applique cette méthode petit bout par petit bout en divisant l'intervalle de calcul.\n",
    "\n",
    "</span>\n",
    "\n",
    "<span style=\"color:red\">\n",
    "\n",
    "**C'est la méthode composite**\n",
    "\n",
    "</span>\n",
    "\n",
    "#### Méthodes numériques\n",
    "\n",
    "##### Bonus : Méthode de héron\n",
    "Un des premiers algorithmes pour la recherche de racine, proche de celui de Newton.\n",
    "<div class=\"alert alert-info\">\n",
    "\n",
    "$$\n",
    "x_{k+1}=\\frac 1 2\\left(\\frac A{x_k}+x_k\\right), k\\in \\mathbb N^*\n",
    "$$\n",
    "</div>\n",
    "\n",
    "En effet, on montre que $(x_k)$ est décroisante et minorée par $\\sqrt A$:\n",
    "\n",
    "$$\n",
    "x_{k+1}^2-A=\\frac {A+x_k^2}{4x_k^2}-A=\\frac {(A+x_k^2)^2}{4x_k}\\ge 0 \\Longleftrightarrow x_{k+1}^2\\ge A.\\text{ Cqfd.}\n",
    "$$\n",
    "De plus, \n",
    "$$\n",
    "x_{k+1}-x_k=\\frac{A-x_k^2}{2x_k} \\le 0 \\Leftrightarrow x_k\\le \\sqrt A, \\forall k.\n",
    "$$\n",
    "Par réccurence, on montre que cela est vrai ssi $x_0>\\sqrt A$.\n",
    "\n",
    "On voit donc immédiatement que $(x_k)\\xrightarrow[\\infin]{} \\sqrt A$ si $x_0>\\sqrt A$.\n",
    "\n"
   ]
  },
  {
   "cell_type": "code",
   "execution_count": 5,
   "metadata": {},
   "outputs": [],
   "source": [
    "def heron(A,xk,maxITER): # Méthode de Héron\n",
    "    print (\"Valeur initiale : \", xk)\n",
    "    for k in range(maxITER):\n",
    "        xk = 0.5*(A/xk+xk)\n",
    "        print (\"Iteration \",k+1, \" : \", xk)\n",
    "    return xk"
   ]
  },
  {
   "cell_type": "markdown",
   "metadata": {},
   "source": [
    "##### Méthode par dichotomie:\n",
    "\n",
    "Soit $f$ de classe $C^1$ et changeant de signe entre $[a_0,b_0]$. Selon le TVI, $f(x)=0$ admet au moins 1 solution.\n",
    "> Méthode: On divise l'intervalle en deux, cherche de quel côté on change de signe et reccomence de ce côté.\n",
    "<div class=\"alert alert-info\">\n",
    "\n",
    "On définit donc $(a_n)$, $(b_n)$ et $(m_n)$ par réccurence:\n",
    "$$\n",
    "\\begin{cases}\n",
    "m_n=\\frac{a_n+b_n}{2}\\\\\n",
    "a_{n+1}=b_n \\text{ si }f(a_n)f(b_n)<0, m_n \\text{ sinon}\\\\\n",
    "b_{n+1}=m_n \\text{ si }f(a_n)f(b_n)<0, b_n \\text{ sinon}\n",
    "\\end{cases}\n",
    "$$\n",
    "</div>\n",
    "\n",
    "On peut montrer que $\\forall n \\in \\mathbb N, (a_n)$ est croissante, $(b_n)$ décroissante et\n",
    "$$\n",
    "|b_{n+1}-a_{n+1}|=\\frac{1}{2^{n+1}}|b_0-a_0| \\rightarrow 0 \\text{ en }+\\infin\n",
    "$$\n",
    "**Ces suites sont adjacentes !**\n",
    "\n",
    "Donc, comme $f$ est continue, $f^2(c)=\\lim f(a_n)f(b_n)\\leq 0$. Ainsi, $f'(c)=0$, la limite est bel et bient la solution du problème.\n",
    "> La dichotomie est **lente mais imparable**: en 10 itérations, on obtient une précision de $2^{10}\\approx 10^3$\n",
    "\n"
   ]
  },
  {
   "cell_type": "code",
   "execution_count": null,
   "metadata": {},
   "outputs": [],
   "source": [
    "def dicho(a,b,f,itemax):\n",
    "    m=(a+b)/2\n",
    "    for i in range(itemax):\n",
    "        if f(m)==0:\n",
    "            return m\n",
    "        else:\n",
    "            if f(a)*f(m)<0:\n",
    "                a,b=b,m\n",
    "            else:\n",
    "                a=m\n",
    "    return m"
   ]
  },
  {
   "cell_type": "markdown",
   "metadata": {},
   "source": [
    "##### Méthode de Lagrange:\n",
    "> **Amélioration de la dichotomie** qui change l'expression de $m_n$:\n",
    "\n",
    "$m_n$ devient le point d'intersection entre les abscisses et $[(a_n,f(a_n));(b_n,f(b_n))]$.\n",
    "\n",
    "Donc $(m_n)$ vérifie $f(a_n)\\frac{f(b_n)-f(a_n)}{b_n-a_n}(m_n-a_n)$\n",
    "$$\n",
    "m_n=\\frac{f(b_n)a_n-f(a_n)b_n}{f(b_n)-f(a_n)}\n",
    "$$\n",
    "\n",
    "**Mais** On ne peut plus prendre $|b-a|\\geq p$ comme critère car il ne tend plus vers 0.\n",
    "\n",
    "On le remplace par $|m_{n+1}-m_n|\\geq p$, qui a besoin de $m_n$ à initier et stocker.\n",
    "> Plus rapide que la dichotomie mais demande une variable en plus\n"
   ]
  },
  {
   "cell_type": "markdown",
   "metadata": {},
   "source": [
    "##### Méthode de la sécante :\n",
    "<div class=\"alert alert-block alert-info\">\n",
    "\n",
    "$$\n",
    "\\forall n>=0, x_{n+1}= \\frac {f(x_n)-f(x_{n-1})x_n} {f(x_n)-f(x_{n-1})}\n",
    "$$\n",
    "\n",
    "</div>\n",
    "\n",
    "(classes bootstrap)\n",
    "> <u> Remarque: </u>\n",
    ">\n",
    "> Pour que $ x_{n} $ soit bien défini, $\\forall n>=0, f(x_{n-1})\\neq f(x_n)$\n",
    "\n",
    "**<u>Théorème :</u>**\n",
    "\n",
    "Soit f de classe $C^2$ sur $]a,b[$ avec $f(\\hat x)=0$;\n",
    "\n",
    "On suppose $f'(\\hat x)\\neq 0$. Si les points initiaux $x_{-1}$ et $x_0$ sont choisis suffisamment proches de $\\hat x$, la suite $(x_n)$ converge vers $\\hat x$ et est d'ordre $\\phi =\\frac{1+\\sqrt{5}} {2}$\n",
    "\n",
    ">\n"
   ]
  },
  {
   "cell_type": "code",
   "execution_count": null,
   "metadata": {},
   "outputs": [],
   "source": [
    "f=lambda x: x # fonction à traiter\n",
    "\n",
    "def secante(xo,xi,ep):\n",
    "    x,y=xo,xi\n",
    "    z=(f(x)*y - f(y)*x)/(f(x)-f(y))\n",
    "    while abs(f(z))>ep:\n",
    "        x=y\n",
    "        y=z\n",
    "        z=(f(x)*y - f(y)*x)/(f(x)-f(y))\n",
    "    \"\"\"  \n",
    "    d=1\n",
    "    while d >ep:\n",
    "        x=y\n",
    "        y=z\n",
    "        z=(f(x)*y - f(y)*x)/(f(x)-f(y))\n",
    "        d=abs(z-y)\n",
    "    \"\"\"\n"
   ]
  },
  {
   "cell_type": "markdown",
   "metadata": {},
   "source": [
    "##### Méthode de Newton simple:\n",
    "> Plutôt que de résoudre $f(x)=0$, on remplace $f$ par son $Dl_1$ au point initial $x_0$\n",
    "\n",
    "$$\n",
    "f(x)=f(x_0)+f'(x_0)(x-x_0)+\\omicron (|x-x_0|) \n",
    "$$\n",
    "$$\n",
    "\\approx f(x_0)+f'(x_0)(x-x_0)\n",
    "$$\n",
    "On considère donc \n",
    "$$\n",
    "f(x_0)+f'(x_0)(x-x_0)=0\n",
    "$$\n",
    "dont la solution est\n",
    "$$\n",
    "x_1=x_0-\\frac{f(x_0)}{f'(x_0)}\n",
    "$$\n",
    "<u> Finalement, la suite est donc: </u>\n",
    "$$\n",
    "\\forall n\\geq 0, x_{n+1}=x_n-\\frac{f(x_n)}{f'(x_n)}\n",
    "$$\n",
    "> $x_{n+1}$ est le point d'intersection entre la tangente de f en $(x_n,f(x_n))$ et l'axe des abscisses\n",
    "\n",
    "> Remarque: Il faut que $\\forall n\\in \\mathbb N, f'(x_n)\\neq 0, $\n",
    "\n",
    "**<u>Théorème :</u>**\n",
    "Soit $f$ de classe $C^2$ sur $]a,b[$ avec $f(\\hat x)=0$;\n",
    "\n",
    "Si $f'(\\hat x)\\neq 0$, et $x_0$ suffisamment proche de $\\hat x$, la suite par newton converge vers $\\hat x$ quadratiquemt (ordre 2)\n",
    "\n",
    "> Très rapide ! A utiliser si on peut trouver $f'$ facilement"
   ]
  },
  {
   "cell_type": "code",
   "execution_count": null,
   "metadata": {},
   "outputs": [],
   "source": [
    "f=lambda x: ...\n",
    "fp=lambda x: ...\n",
    "\n",
    "def newt(xo,ep):\n",
    "    x=xo\n",
    "    while abs(f(x))>ep: # type: ignore\n",
    "        x=x-f(x)/fp(x) # type: ignore\n",
    "    \"\"\"\n",
    "    d=1\n",
    "    while d>ep:\n",
    "        y=x-f(x)/fp(x)\n",
    "        d=abs(y-x)\n",
    "        x=y\n",
    "    \"\"\""
   ]
  },
  {
   "cell_type": "markdown",
   "metadata": {},
   "source": [
    "##### Méthode de Newton-Rhapson vectorielle\n",
    ">Méthode de résolution vectorielle pour fonctions à **deux variables** ou pouvant s'y ramener.\n",
    "\n",
    "Soit  $f: \\displaystyle \\begin{cases} \\mathbb {R^2}\\rightarrow \\mathbb {R^2} \\\\ x,y\\rightarrow fx,fy\\end{cases}$.Cherchons\n",
    "$\\hat x,\\hat y$ tels que $f(\\hat x, \\hat y)=0$. \n",
    "\n",
    "En s'inspirant de la méthode scalaire $x_{n+1}=x_n-\\frac{f(x_n)}{f'(x_n)}$, on peut tenter un développement limité à l'ordre 1, en introduisant $h$, le déplacement infinitésimal. $f$ et $h$ se déclinent suivant x ou y.\n",
    "\n",
    "$$\n",
    "\\begin{cases}\n",
    "f_x(x_{n-1}+h_x,y_{n-1}+h_y)=f_x(x_{n-1},y_{n-1})\n",
    "+h_x\\frac{\\partial f_x(x_{n-1},y_{n-1})}{\\partial x}\n",
    "+h_y\\frac{\\partial f_x(x_{n-1},y_{n-1})}{\\partial y}\\\\\n",
    "\n",
    "f_y(x_{n-1}+h_x,y_{n-1}+h_y)=f_y(x_{n-1},y_{n-1})\n",
    "+h_x\\frac{\\partial f_y(x_{n-1},y_{n-1})}{\\partial x}\n",
    "+h_y\\frac{\\partial f_y(x_{n-1},y_{n-1})}{\\partial y}\n",
    "\\end{cases}\n",
    "$$\n",
    "\n",
    "On passe en matriciel pour simplifier. Intuitivement, \n",
    "$\\displaystyle \\begin{cases}h_x=x_n-x_{n-1}\\\\h_y=y_n-y_{n-1}\\end{cases}$\n",
    "\n",
    "$$\n",
    "\\begin{pmatrix}\n",
    "    f_x(x_n,y_n)\\\\\n",
    "    f_y(x_n,y_n)\n",
    "\\end{pmatrix}\n",
    "=\\begin{pmatrix}\n",
    "    f_x(x_{n-1},y_{n-1})\\\\\n",
    "    f_y(x_{n-1},y_{n-1})\n",
    "\\end{pmatrix}\n",
    "+\\begin{pmatrix}\n",
    "    \\frac{\\partial f_x}{\\partial x}&\\frac{\\partial f_x}{\\partial y}\\\\\n",
    "    \\frac{\\partial f_y}{\\partial x}&\\frac{\\partial f_y}{\\partial y}\n",
    "\\end{pmatrix}\n",
    "\\begin{pmatrix}\n",
    "    h_x\\\\\n",
    "    h_y\n",
    "\\end{pmatrix}\n",
    "$$\n",
    "Or, \n",
    "$\\displaystyle \\begin{pmatrix}\n",
    "    \\frac{\\partial f_x}{\\partial x}&\\frac{\\partial f_x}{\\partial y}\\\\\n",
    "    \\frac{\\partial f_y}{\\partial x}&\\frac{\\partial f_y}{\\partial y}\n",
    "\\end{pmatrix}\n",
    "$ \n",
    "est la **matrice jacobienne**, notée ici $J$:\n",
    "$$\n",
    "\\Leftrightarrow\n",
    "\\begin{pmatrix}\n",
    "    0\\\\\n",
    "    0\n",
    "\\end{pmatrix}\n",
    "=J^{-1}\n",
    "\\begin{pmatrix}\n",
    "    f_x(x_n,y_n)\\\\\n",
    "    f_y(x_n,y_n)\n",
    "\\end{pmatrix}\n",
    "+\\begin{pmatrix}\n",
    "    x_n\\\\\n",
    "    y_n\n",
    "\\end{pmatrix}\n",
    "-\\begin{pmatrix}\n",
    "    x_{n-1}\\\\\n",
    "    y_{n-1}\n",
    "\\end{pmatrix}\n",
    "$$\n",
    "<div class=\"alert alert-success\">\n",
    "\n",
    "$$\n",
    "\\Leftrightarrow\n",
    "\\begin{pmatrix}\n",
    "    x_n\\\\\n",
    "    y_n\n",
    "\\end{pmatrix}\n",
    "=\\begin{pmatrix}\n",
    "    x_{n-1}\\\\\n",
    "    y_{n-1}\n",
    "\\end{pmatrix}\n",
    "-J^{-1}\n",
    "\n",
    "\\begin{pmatrix}\n",
    "    f_x(x_{n-1},y_{n-1})\\\\\n",
    "    f_y(x_{n-1},y_{n-1})\n",
    "\\end{pmatrix}\n",
    "$$\n",
    "\n",
    "</div>\n",
    "\n",
    "> On peut donc facilement généraliser cette méthode pour des fonctions à $n\\in \\mathbb N$ variables."
   ]
  },
  {
   "cell_type": "code",
   "execution_count": 1,
   "metadata": {},
   "outputs": [],
   "source": [
    "import numpy as np\n",
    "\n",
    "def newton_vectorielle(f,j,x:float,y:float,h=1e-2,n=500)->tuple:\n",
    "    \"\"\"\n",
    "    Renvoie les coordonées en 0 de f et le nombre d'itérations,\n",
    "    avec j sa jacobienne, x et y les points de départ, \n",
    "    h la précision, et n le nombre d'itérations max.\n",
    "    \"\"\"\n",
    "    X=np.array([x,y])\n",
    "    i=0\n",
    "    while i<n and np.linalg.norm(f(*X)) > h:\n",
    "        b= np.array([*f(*X)])\n",
    "        X-=np.linalg.solve(j(*X),b)\n",
    "        i+=1\n",
    "    return X,i"
   ]
  },
  {
   "cell_type": "markdown",
   "metadata": {},
   "source": [
    "## Interpolation de fonction\n",
    "\n",
    "#### Méthode de Lagrange\n",
    "Soit $N+1$ points de coordonées $(x_l,f(x_l))_{0\\geq l \\geq N}$ avec $x_i\\neq x_j$ si $i\\neq j$.\n",
    "\n",
    "L'unique polynôme interpolant ces points peut s'écrire :\n",
    "$$\n",
    "p(x)=\\sum_{i=0}^N {f(x_i) \\prod_{\\substack{m=0\\\\ m\\neq i}}^N \\frac{x-x_m}{x_i-x_m}}\n",
    "$$\n",
    ">**Erreur :**\n",
    ">\n",
    ">Soit $f$ la fonction et $p$ l'interpolation de $f$ en $x_i\\in [a,b]$. Si $f$ est $C^{n+1}([a,b])$, $\\exists \\xi\\in [\\min(x,x_0),max(x,x_n)]$ tq:\n",
    ">$$f(x)-p(x)= \\prod_{i=0}^n \\frac{(x-x_i)}{(n+1)!}f^{(n+1)}(\\xi)$$\n",
    "><u>Remarque:</u> Plus de points d'interpolation ne donne pas nécessairement un meilleur résultat."
   ]
  },
  {
   "cell_type": "markdown",
   "metadata": {},
   "source": [
    "## Différences finies, ou approximation de dérivée\n",
    "<u>Rappel:</u> \n",
    "\n",
    "\n",
    "#### Dérivée première simple\n",
    "Par développement limité, on peut retrouver $\\displaystyle f^\\prime(x_0)=\\lim_{h\\to 0} \\frac {f(x_0+h)-f(x_0)}{h} $.\n",
    "\n",
    "En effet, $\\displaystyle f(x_0)\\overset{x_0}= f(x_0+h) =  f(x_0) +  f'(x_0)h+\\frac {h^2} 2 f''(x_0)+O(h^3)$\n",
    "\n",
    "Donc $\\displaystyle f(x_0+h)-f(x_0) =f'(x_0)h+ O(h^2)$, qui nous donne $f'(x)$ en divisant par $h$:\n",
    "<div class='alert alert-danger'>\n",
    "\n",
    "$$\n",
    "f'(x_0)=\\frac {f(x_0+h)-f(x_0)}{h}+O(h).\n",
    "$$\n",
    "</div>"
   ]
  },
  {
   "cell_type": "markdown",
   "metadata": {},
   "source": [
    "#### Dérivée première centrée\n",
    "On fait simplement une $Dl_2$, et applique une méthode similaire:\n",
    "$$\n",
    "f(x_0-h)   =  f(x_0) -  f'(x_0)h+\\frac {h^2} 2 f''(x_0)+O(h^3)\n",
    "$$\n",
    "> *Astuce:* $f(0+h)-f(0-h)$: \n",
    "$$\n",
    "f(x_0+h) -f(x_0-h)   =  2  f'(x_0)h+0 f''(x_0)+O(h^3)\n",
    "$$\n",
    "<div class='alert alert-danger'>\n",
    "\n",
    "Ainsi,\n",
    "$$\n",
    "f'(x_0)=\\frac {f(x_0+h)-f(x_0-h)}{2h}+O(h^2).\n",
    "$$\n",
    "</div>"
   ]
  },
  {
   "cell_type": "markdown",
   "metadata": {},
   "source": [
    "#### Dérivée seconde\n",
    "> Formule de $f''$ centrée non prouvée, sûrement $f''=(f')'$, obtenue par $Dl_2$\n",
    "<div class='alert alert-danger'>\n",
    "\n",
    "$$\n",
    "f^{\\prime \\prime}(x_0) = \\frac {f(x_0+h)-2f(x_0)+f(x_0-h)}{h^2}+O(h^2).\n",
    "$$\n",
    "</div>"
   ]
  },
  {
   "cell_type": "code",
   "execution_count": null,
   "metadata": {},
   "outputs": [
    {
     "data": {
      "image/png": "[encoded data removed]",
      "text/plain": [
       "<Figure size 640x480 with 1 Axes>"
      ]
     },
     "metadata": {},
     "output_type": "display_data"
    },
    {
     "data": {
      "image/png": "[encoded data removed]",
      "text/plain": [
       "<Figure size 640x480 with 1 Axes>"
      ]
     },
     "metadata": {},
     "output_type": "display_data"
    }
   ],
   "source": [
    "## Comparaison des approximations des dérivées:\n",
    "\n",
    "def approx_fp(x:float,f,h=1.e-3) ->float:\n",
    "    \"\"\"approxime f'(x) à la précision h.\"\"\"\n",
    "    return (f(x+h)-f(x))/h\n",
    "\n",
    "def approx_fp_centrée(x:float,f,h=1.e-3)->float:\n",
    "    \"\"\"approxime f'(x)à la précision h**2\"\"\"\n",
    "    return (f(x+h)-f(x-h))/(2*h)\n",
    "\n",
    "def approx_fpp(x:float,f,h=1.e-3)->float:\n",
    "    \"\"\"approxime f''(x) à la précision h**2\"\"\"\n",
    "    return (f(x+h)-2*f(x)+f(x-h))/(h*h)\n",
    "\n",
    "import numpy as np\n",
    "import matplotlib.pyplot as plt\n",
    "\n",
    "## Calcul d'erreur (modifier h, différences visibles à h=0.5):\n",
    "h=1/2\n",
    "\n",
    "f=lambda x:np.sin(x)*(x-2)**2\n",
    "x=np.linspace(-1,5)\n",
    "y,fp,yp,ypc,ypp=f(x),(x-2)**2*np.cos(x)+(2*x-4)*np.sin(x),approx_fp(x,f,h),approx_fp_centrée(x,f,h),approx_fpp(x,f,h) # type: ignore\n",
    "\n",
    "## comparaison des dérivées premières:\n",
    "plt.plot(x,fp,label='f\\'(x)')\n",
    "plt.plot(x,yp,label='f\\' simple')\n",
    "plt.plot(x,ypc,label='f\\' centrée')\n",
    "\n",
    "plt.legend()\n",
    "plt.title(f\"comparaison des méthodes avec {h=}\")\n",
    "plt.show()\n",
    "plt.close()\n",
    "## comparaison des dérivées secondes:\n",
    "fpp=-(x - 2)**2*np.sin(x) + 2*(2*x - 4)*np.cos(x) + 2*np.sin(x)\n",
    "plt.plot(x,fpp,label='f\\'\\'(x)')\n",
    "plt.plot(x,ypp,label='f\\'\\'(x) approximée')\n",
    "\n",
    "plt.legend()\n",
    "plt.title(f\"comparaison des méthodes avec {h=}\")\n",
    "plt.show()\n",
    "plt.close()\n",
    "\n"
   ]
  },
  {
   "cell_type": "markdown",
   "metadata": {},
   "source": [
    "## Quadrature, ou intégration numérique\n",
    "Une quadrature utilise comme principe\n",
    "$$\n",
    "F=\\int_a^b f(x)\\ dx = \\lim_{n \\rightarrow \\infin}  \\sum_{k=0}^n a_kf(x_k)\n",
    "$$\n",
    "avec $a_k$ des **coefficients à déterminer** et $x_k$ des points répartis sur $[a,b]$"
   ]
  },
  {
   "cell_type": "markdown",
   "metadata": {},
   "source": [
    "### Rectangles à droite\n",
    "Sur $[a,b]$, on peut approximer la courbe par un rectangle de longueur $b-a$ et hauteur $f(a)$. Pour plus de précision, on discrétise à $n$ intervalles:\n",
    "<div class='alert alert-success'>\n",
    "\n",
    "$$\n",
    "F\\approx \\frac {b-a}n \\sum_{k=0}^{n-1} f(a+k\\frac{b-a}n)=h\\sum_{k=0}^{n-1} f(a+kh), h=\\frac {b-a}n\n",
    "$$\n",
    "</div>\n",
    "\n",
    "### Rectangles à gauche\n",
    "**Même principe**, la hauteur devient simplement $f(b)$, il suffit de **changer les bornes** de la somme:\n",
    "$$\n",
    "F\\approx \\frac {b-a}n \\sum_{k=1}^{n} f(a+k\\frac{b-a}n)=h\\sum_{k=1}^{n} f(a+kh) \\text{ ,  }  h=\\frac {b-a}n\n",
    "$$\n",
    "\n",
    "### Précisions et théorèmes\n",
    "On démontre que le calcul approché de $F$ converge vers l’intégrale de $f$ quand $n\\rightarrow +\\infin$.\n",
    "\n",
    "<div class=\"alert alert-warning\">\n",
    "\n",
    "Plus précisément, si $f$ est de classe $𝐶^1$ sur $[𝑎,𝑏]$, \n",
    "$$\n",
    "\\epsilon= \\left| \\int_a^b f(x)\\, dx-F_n\\right| \\leq \\frac{(b-a)^2}{2n}max|f'(x)|\n",
    "$$\n",
    "</div>"
   ]
  },
  {
   "cell_type": "markdown",
   "metadata": {},
   "source": [
    "### Trapèzes\n",
    "<u>Preuve par la méthode générale:</u>\n",
    "\n",
    "Soit $f$ linéaire sur $[a,b]$. Cherchons $\\alpha$ et $\\beta$ tel que $\\int_a^b f(x)\\, dx = \\alpha f(a)+\\beta f(b)$:\n",
    "\n",
    "On évalue stratégiquement,\n",
    "\n",
    "- Si $f(x)=1$:\n",
    "$$\n",
    "\\int_a^b 1 \\, dx = b-a =\\alpha f(a)+\\beta f(a)=\\alpha +\\beta\n",
    "$$\n",
    "- Si $f(x)=x-a$:\n",
    "$$\n",
    "\\int_a^b f(x) \\,dx = \\frac {(b-a)^2}{2} =\\alpha \\times 0  +\\beta (b-a)\n",
    "$$\n",
    "\n",
    "Ainsi, \n",
    "$$\n",
    "\\begin{cases}\n",
    "\\beta = \\frac {b-a}{2}\\\\\n",
    "\\alpha = (b-a)- \\beta =\\beta\n",
    "\\end{cases}\n",
    "$$\n",
    "<div class=\"alert alert-info\">\n",
    "\n",
    "$$\n",
    "\\int_a^b f(x)\\, dx = \\frac {b-a}{2} (f(a)+f(b))\n",
    "$$\n",
    "Si $f$ est affine\n",
    "</div>\n",
    "\n",
    "<u>Généralisation:</u>\n",
    "\n",
    "On pose $\\displaystyle h=\\frac{b-a}n$,  $\\begin{cases} a_k=a+kh \\\\ b_k=a+h+kh\\end{cases} $. Donc, si $k\\in [0,n-1]$ et $n$ est le nombre d'intégrations:\n",
    "$$\n",
    "F\\approx \\sum_{k=0}^n \\frac{a+kh-a-kh+h}2 (f(a+kh)+f(a+h+kh))\n",
    "$$\n",
    "<div class=\"alert alert-success\">\n",
    "\n",
    "$$\n",
    "F\\approx \\sum_{k=0}^{n-1} \\frac{h}2 (f(a+kh)+f(a+h(1+k)))\n",
    "$$\n",
    "</div>\n",
    "\n",
    "#### Précisions et théorèmes\n",
    "<div class=\"alert alert-warning\">\n",
    "\n",
    "Si $f$ est de classe $𝐶^2$ sur $[𝑎,𝑏]$, \n",
    "$$\n",
    "\\epsilon= \\left| \\int_a^b f(x)\\, dx-F_n\\right| \\leq \\frac{(b-a)^3}{12n^2}max|f''(x)|\n",
    "$$\n",
    "</div>"
   ]
  },
  {
   "cell_type": "markdown",
   "metadata": {},
   "source": [
    "### Simpson\n",
    "<u> Preuve:</u> Utilise 3 points pour interpôler la fonction\n",
    "\n",
    "Soit $f$ un polynôme du second degré sur $[a,b]$. Cherchons $\\alpha$, $\\beta$ et $\\gamma$ tel que $\\int_a^b f(x)\\, dx = \\alpha f(a)+  \\beta f(\\frac {a+b}{2})+ \\gamma f(b)$:\n",
    "\n",
    "On évalue stratégiquement,\n",
    "\n",
    "- Si $f(x)=1$:\n",
    "$$\n",
    "\\int_a^b 1 \\, dx =b-a=\\alpha+\\beta+\\gamma\n",
    "$$\n",
    "- Si $f(x)=x-a$:\n",
    "$$\n",
    "\\int_a^b x-a \\, dx = \\frac {(b-a)^2}{2}=\\beta \\frac{b-a}{2}+\\gamma (b-a)\n",
    "$$\n",
    "Ainsi, \n",
    "$$\n",
    "\\begin {cases}\n",
    "\\frac{b-a}2 =\\frac{\\beta}2 +\\gamma \\\\\n",
    "\\frac{b-a}3=\\frac{\\beta}4 +\\gamma\n",
    "\\end{cases}\n",
    "$$\n",
    "<div class=\"alert alert-info\">\n",
    "\n",
    "$$\n",
    "\\int_a^b f(x) \\,dx=\\frac {b-a} 6 \\left(f(a)+4f(\\frac {a+b} 2)+f(b)\\right)\n",
    "$$\n",
    "Si $f$ est un trinôme\n",
    "</div>\n",
    "<u>Généralisation composite:</u>\n",
    "\n",
    "On pose $\\displaystyle h=\\frac{b-a}n$, $\\begin{cases} a_k=a+kh \\\\ b_k=a+h+kh\\end{cases} $. Donc, si $k\\in [0,n-1]$ et $n$ est le nombre d'intégrations:\n",
    "$$\n",
    "F\\approx \\sum_{k=0}^{n-1}\\frac{a+kh-a-kh+h}6 (f(a+kh)+4f(\\frac {a+kh+a+kh+h}2)+f(a+h+kh))\n",
    "$$\n",
    "Ce qui donne:\n",
    "<div class=\"alert alert-success\">\n",
    "\n",
    "$$\n",
    "F\\approx \\sum_{k=0}^{n-1} \\frac{h}6 f(a+kh)+4f\\left(a+kh+\\frac {h}2\\right)+f(a+h(1+k))\n",
    "$$\n",
    "</div>\n",
    "\n",
    "### Précision\n",
    "\n",
    "<div class=\"alert alert-warning\">\n",
    "\n",
    "Si $f$ est de classe $𝐶^4$ sur $[𝑎,𝑏]$, \n",
    "$$\n",
    "\\epsilon= \\left| \\int_a^b f(x)\\, dx-F_n\\right| \\leq \\frac{(b-a)^5}{2880n^4}max|f^{(4)}(x)|\n",
    "$$\n",
    "</div>"
   ]
  },
  {
   "cell_type": "code",
   "execution_count": null,
   "metadata": {},
   "outputs": [
    {
     "data": {
      "text/plain": [
       "'On intègre'"
      ]
     },
     "metadata": {},
     "output_type": "display_data"
    },
    {
     "data": {
      "text/latex": [
       "$\\displaystyle e^{x} \\cos{\\left(x \\right)}$"
      ],
      "text/plain": [
       "exp(x)*cos(x)"
      ]
     },
     "metadata": {},
     "output_type": "display_data"
    },
    {
     "data": {
      "text/plain": [
       "'Et attend'"
      ]
     },
     "metadata": {},
     "output_type": "display_data"
    },
    {
     "data": {
      "text/latex": [
       "$\\displaystyle \\frac{e^{2} \\cos{\\left(2 \\right)}}{2} - \\frac{e \\sin{\\left(1 \\right)}}{2} - \\frac{e \\cos{\\left(1 \\right)}}{2} + \\frac{e^{2} \\sin{\\left(2 \\right)}}{2}$"
      ],
      "text/plain": [
       "exp(2)*cos(2)/2 - E*sin(1)/2 - E*cos(1)/2 + exp(2)*sin(2)/2"
      ]
     },
     "metadata": {},
     "output_type": "display_data"
    },
    {
     "name": "stdout",
     "output_type": "stream",
     "text": [
      "Approximation par Simpson composite:\n",
      "F1= -0.0558;\n",
      "Résultat théorique: \n",
      "F= -0.0561;\n",
      "Erreur:\n",
      "epsilon= 0.00031\n"
     ]
    }
   ],
   "source": [
    "def int_simpson_composite(f,a:float,b:float,n:int):\n",
    "    \"\"\" \n",
    "    Retourne l'intégrale de f de a à b par n méthodes de simpson\n",
    "    \"\"\"\n",
    "    if a>b:\n",
    "        a,b=b,a\n",
    "    F=0.0\n",
    "    h=(b-a)/n\n",
    "    for k in range(0,n-1,1):\n",
    "        F+= (h/6)*(f(a+k*h)+4*f(a+k*h+h/2)+f(a+h*(1+k))) # Pour les autres méthodes, changer cette formule.\n",
    "    return F\n",
    "\n",
    "# Exemple et calcul d'erreur\n",
    "# Sympy permet de déterminer le résultat attendu, il n'approxime rien.\n",
    "\n",
    "import sympy as sp # cette bibliothèque est explicitée plus bas\n",
    "from numpy import cos , exp\n",
    "\n",
    "x=sp.symbols('x')\n",
    "\n",
    "f1: sp.Expr = sp.cos(x)*sp.exp(x)  # type: ignore\n",
    "# fonction arbitraire choisie pour le test\n",
    "f=lambda x: cos(x)*exp(x) # ma fonction ne semble pas compatible sympy\n",
    "\n",
    "F=sp.integrate(f1,(x,1,2))\n",
    "F1=int_simpson_composite(f,1,2,10000)\n",
    "\n",
    "display(\"On intègre\",f1,\"Et attend\",F)\n",
    "epsilon = abs(sp.N(F)-F1) # Calcul d'erreur\n",
    "print(f\"Approximation par Simpson composite:\\n{F1= :.4f};\\nRésultat théorique: \\nF= {sp.N(F):.4f};\\nErreur:\\n{epsilon= :.5f}\") # cohérent mais n doit être grand"
   ]
  },
  {
   "cell_type": "markdown",
   "metadata": {},
   "source": [
    "**précision- erreur a ajouter**\n",
    "f(x)=0: $\\phi$ -> précision (phi'=0 -> quadratiq)... voir photos 08/04/25 "
   ]
  },
  {
   "cell_type": "markdown",
   "metadata": {},
   "source": [
    "## Equations différentielles par Euler\n",
    "`scipy.integrate.odeint(...)` permet de calculer numériquement.\n",
    "### Ordre 1\n",
    "> On linéarise avec le taux d'accroissement et se ramène au problème de $f(x)=0 $.\n",
    "\n",
    "On va étudier $\\displaystyle \\begin{cases} y'=\\phi(y(x),x)\\\\y_0=y(x_{0})\\end{cases} $ sur $I=[a,b]\\in \\mathbb R$, problème de Cauchy au premier ordre.\n",
    "<div class=\"alert alert-success\">\n",
    "\n",
    "En posant $\\displaystyle h=\\frac{b-a}n=x_{k+1}-x_k$, on a :\n",
    "$$\n",
    "y'(x_k)=\\frac{y(x_{k+1})-y(x_k)}{x_{k+1}-x_k} \\Rightarrow y_{k+1}=y_k+h\\phi(y_k,x_k)\n",
    "$$\n",
    "</div>"
   ]
  },
  {
   "cell_type": "code",
   "execution_count": 5,
   "metadata": {},
   "outputs": [],
   "source": [
    "import numpy as np\n",
    "from typing import Callable\n",
    "\n",
    "def edl1(f:Callable,ya:float,a:float,b:float,n:int)-> tuple[np.ndarray, np.ndarray]:\n",
    "    \"\"\"\n",
    "    Résoud l'EDL1 y'(x)=f(y,x) (ou y'=my+p) avec y(a)=yo entre a et b. Renvoie la liste des points de x, y(x), de longueur n\n",
    "    \"\"\"\n",
    "    import numpy as np\n",
    "    y,x=np.zeros(n), np.linspace(a,b,n)\n",
    "    y[0]=ya\n",
    "    for i in range(n-1):\n",
    "        y[i+1]=(y[i]+((b-a)/(n-1))*f(y[i],x[i]))\n",
    "    return x, y\n"
   ]
  },
  {
   "cell_type": "markdown",
   "metadata": {},
   "source": [
    "\n",
    "### Ordre 2\n",
    "On va étudier $\\displaystyle \\begin{cases} y''=\\phi(y'(x),y(x),x)\\\\yp_0=y'(x_{0})\\\\y_0=y(x_0)\\end{cases} $ sur $I=[a,b]\\in \\mathbb R$, problème de Cauchy au second ordre.\n",
    "\n",
    "#### Méthode odeint\n",
    "> `scipy.integrate.odeint` étant récursive, on peut l'utiliser simplement: `(phi, Yo, t)`\n",
    "\n",
    "#### Méthode vectorielle\n",
    "> Avec $y'=z$ la fonction auxiliaire, on se ramène à deux équations du premier ordre.\n",
    "\n",
    "On pose $\\displaystyle \\begin{cases} y'(x)=z(x) \\\\ z'=\\phi(z,y,x)\\end{cases} $, puis les vecteurs $\\displaystyle \\begin{cases} Y(x)=(y(x); z(x))\\\\\\phi((y;z),x)=(z;\\phi(z,y,x))\\end{cases}$\n",
    "\n",
    "Ainsi, on se ramène au problème $\\displaystyle \\begin{cases}Y'(x)=\\phi(Y(x),x)\\\\Y(0)=(y_0;z_0)\\end{cases}$, problème de Cauchy vectoriel du premier ordre.\n",
    "\n",
    "\n",
    "#### Méhode explicite\n",
    "> On approxime la dérivée seconde\n",
    "<div class=\"alert alert-success\">\n",
    "\n",
    "$$\n",
    "y''(x)=\\frac{y(x+h)+y(x-h)-2y(x)}{h^2} \\Rightarrow y_{k+1}= ...\n",
    "$$\n",
    "</div>\n",
    "\n",
    "Il serait intéressant de lier cet exemple à la formule générale:\n",
    "$$\n",
    "y_{k+1}=\\frac{y_k (2+dt\\frac km)-y_{k-1}-dt^2\\frac gl sin(y_k)}{1+dt\\frac km}\n",
    "$$\n",
    "Implémentation pour un pendule amorti, voir `TP1_equa-diff_S232` pour plus de détails."
   ]
  },
  {
   "cell_type": "code",
   "execution_count": null,
   "metadata": {},
   "outputs": [],
   "source": [
    "import numpy as np\n",
    "\n",
    "N=100000\n",
    "gl,km=98.1,0.2\n",
    "\n",
    "# Méthode odeint\n",
    "def pendule1(N:int)->tuple[np.ndarray, np.ndarray]:\n",
    "    \"\"\"\n",
    "    Retourne l'axe des x et y de la solution de l'équation selon la méthode odeint\n",
    "    \"\"\"\n",
    "    from scipy import integrate\n",
    "    T=np.linspace(0,30,N)\n",
    "\n",
    "    F1=lambda y1,t: np.array([y1[1],-gl*np.sin(y1[0])-km*y1[1]])\n",
    "    yo=np.array([np.pi/2,0])\n",
    "    y1=integrate.odeint(F1,yo,T) # Fonction récursive !\n",
    "    \n",
    "    return T,y1[:,0]\n",
    "\n",
    "# Méthode système\n",
    "def pendule2(N:int)->tuple[np.ndarray, np.ndarray, np.ndarray]: # On ajoute z pour le portrait de phase\n",
    "    \"\"\"\n",
    "    Retourne l'axe des x et y et z=y' de la solution de l'équation selon la méthode d'Euler vectorielle\n",
    "    \"\"\"\n",
    "    T=np.linspace(0,30,N)\n",
    "    lt,dt=len(T),((T[-1]-T[0])/len(T))\n",
    "\n",
    "    F2=lambda y,z:-km*z-gl*np.sin(y)\n",
    "    y2,z=np.zeros(lt),np.zeros(lt)\n",
    "    y2[0],z[0]=np.pi/2,0\n",
    "    for i in range(lt-1):\n",
    "        y2[i+1]=y2[i]+dt*z[i]\n",
    "        z[i+1]=z[i]+dt*F2(y2[i],z[i])\n",
    "    return T, y2, z\n",
    "\n",
    "# Méthode explicite\n",
    "def pendule3(N:int)->tuple[np.ndarray, np.ndarray]:\n",
    "    \"\"\"\n",
    "    Retourne l'axe des x et y de la solution de l'équation selon la méthode d'Euler explicite\n",
    "    \"\"\"\n",
    "    T=np.linspace(0,30,N)\n",
    "    lt,dt=len(T),((T[-1]-T[0])/len(T))\n",
    "\n",
    "    y3=np.zeros(lt)\n",
    "    y3[0],y3[1]=np.pi/2,np.pi/2\n",
    "    for i in range(1,N-1):\n",
    "        y3[i+1]=(y3[i]*(2+dt*km)-y3[i-1]-dt**2*gl*np.sin(y3[i]))/(1+km*dt/1)\n",
    "    return T,y3"
   ]
  },
  {
   "cell_type": "markdown",
   "metadata": {},
   "source": [
    "# Bases sympy\n",
    "A étoffer si besoin"
   ]
  },
  {
   "cell_type": "code",
   "execution_count": 5,
   "metadata": {},
   "outputs": [
    {
     "data": {
      "text/latex": [
       "$\\displaystyle x$"
      ],
      "text/plain": [
       "x"
      ]
     },
     "metadata": {},
     "output_type": "display_data"
    },
    {
     "data": {
      "text/latex": [
       "$\\displaystyle x^{2} \\cos{\\left(2 x^{3} \\right)}$"
      ],
      "text/plain": [
       "x**2*cos(2*x**3)"
      ]
     },
     "metadata": {},
     "output_type": "display_data"
    },
    {
     "data": {
      "text/latex": [
       "$\\displaystyle \\frac{\\sin{\\left(2 x^{3} \\right)}}{6}$"
      ],
      "text/plain": [
       "sin(2*x**3)/6"
      ]
     },
     "metadata": {},
     "output_type": "display_data"
    },
    {
     "data": {
      "text/latex": [
       "$\\displaystyle - 6 x^{4} \\sin{\\left(2 x^{3} \\right)} + 2 x \\cos{\\left(2 x^{3} \\right)}$"
      ],
      "text/plain": [
       "-6*x**4*sin(2*x**3) + 2*x*cos(2*x**3)"
      ]
     },
     "metadata": {},
     "output_type": "display_data"
    },
    {
     "data": {
      "text/plain": [
       "<function _lambdifygenerated(x)>"
      ]
     },
     "metadata": {},
     "output_type": "display_data"
    },
    {
     "name": "stdout",
     "output_type": "stream",
     "text": [
      "f=x**2*cos(2*x**3)\n",
      "F=sin(2*x**3)/6\n",
      "fp=-6*x**4*sin(2*x**3) + 2*x*cos(2*x**3)\n",
      "fp_np=<function _lambdifygenerated at 0x7cc914557740>\n"
     ]
    }
   ],
   "source": [
    "import sympy as sp\n",
    "import numpy as np\n",
    "x=sp.symbols('x')       # Définit les variables, il peut y en avoir plusieurs \n",
    "f=sp.cos(2*x**3)*x**2   # Pas une fonction mais une formule avec x comme var !\n",
    "F=sp.integrate(f,x)     # Plus qu'à faire du calcul formel. !! On appelle la variable f, pas une fonction f(x)!\n",
    "fp=sp.diff(f,x)         # f'(x)\n",
    "fp_np= sp.lambdify(x,fp,\"numpy\") # Permet de passer de sympy à numpy, mais difficile/impossible de faire l'inverse\n",
    "                                 # mais ne s'affiche pas correctement\n",
    "display(x,f,F,fp,fp_np)               # affiche les formules au format markdown\n",
    "print(f\"{f=}\\n{F=}\\n{fp=}\\n{fp_np=}\") # les affiche au format python"
   ]
  },
  {
   "cell_type": "markdown",
   "metadata": {},
   "source": []
  }
 ],
 "metadata": {
  "kernelspec": {
   "display_name": "Python 3",
   "language": "python",
   "name": "python3"
  },
  "language_info": {
   "codemirror_mode": {
    "name": "ipython",
    "version": 3
   },
   "file_extension": ".py",
   "mimetype": "text/x-python",
   "name": "python",
   "nbconvert_exporter": "python",
   "pygments_lexer": "ipython3",
   "version": "3.11.9"
  }
 },
 "nbformat": 4,
 "nbformat_minor": 2
}
